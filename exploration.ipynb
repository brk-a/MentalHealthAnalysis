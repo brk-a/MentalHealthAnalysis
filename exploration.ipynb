{
 "cells": [
  {
   "attachments": {},
   "cell_type": "markdown",
   "metadata": {},
   "source": [
    "# Exploration and Analysis of Mental Health Data from Shamiri\n",
    "\n",
    "### by F Njakai"
   ]
  },
  {
   "attachments": {},
   "cell_type": "markdown",
   "metadata": {},
   "source": [
    "### Table of contents\n",
    "* [Introduction](#introduction)\n",
    "* [Preliminary Wrangling](#preliminary-wrangling)\n",
    "* [Exploration](#exploration)\n",
    "* [Summary of Findings](#exploration)\n",
    "* [Conclusions](#conclusions)"
   ]
  },
  {
   "attachments": {},
   "cell_type": "markdown",
   "metadata": {},
   "source": [
    "<div id=\"introduction\"></div>\n",
    "\n",
    "## Introduction"
   ]
  },
  {
   "attachments": {},
   "cell_type": "markdown",
   "metadata": {},
   "source": [
    "<div id=\"preliminary-wrangling\"></div>\n",
    "\n",
    "## Preliminary Wrangling"
   ]
  },
  {
   "cell_type": "code",
   "execution_count": 4,
   "metadata": {},
   "outputs": [
    {
     "name": "stdout",
     "output_type": "stream",
     "text": [
      "Defaulting to user installation because normal site-packages is not writeable\n",
      "Requirement already satisfied: pandas in /home/DsF/.local/lib/python3.10/site-packages (1.5.2)\n",
      "Requirement already satisfied: seaborn in /home/DsF/.local/lib/python3.10/site-packages (0.12.2)\n",
      "Requirement already satisfied: pandas-profiling in /home/DsF/.local/lib/python3.10/site-packages (3.6.2)\n",
      "Requirement already satisfied: numpy>=1.21.0 in /usr/lib/python3/dist-packages (from pandas) (1.23.5)\n",
      "Requirement already satisfied: python-dateutil>=2.8.1 in /usr/lib/python3/dist-packages (from pandas) (2.8.2)\n",
      "Requirement already satisfied: pytz>=2020.1 in /usr/lib/python3/dist-packages (from pandas) (2022.7)\n",
      "Requirement already satisfied: matplotlib!=3.6.1,>=3.1 in /usr/lib/python3/dist-packages (from seaborn) (3.5.2)\n",
      "Requirement already satisfied: visions[type_image_path]==0.7.5 in /home/DsF/.local/lib/python3.10/site-packages (from pandas-profiling) (0.7.5)\n",
      "Requirement already satisfied: multimethod<1.10,>=1.4 in /home/DsF/.local/lib/python3.10/site-packages (from pandas-profiling) (1.9.1)\n",
      "Requirement already satisfied: scipy<1.10,>=1.4.1 in /usr/lib/python3/dist-packages (from pandas-profiling) (1.8.1)\n",
      "Requirement already satisfied: jinja2<3.2,>=2.11.1 in /usr/lib/python3/dist-packages (from pandas-profiling) (3.0.3)\n",
      "Requirement already satisfied: phik<0.13,>=0.11.1 in /home/DsF/.local/lib/python3.10/site-packages (from pandas-profiling) (0.12.3)\n",
      "Requirement already satisfied: pydantic<1.11,>=1.8.1 in /usr/lib/python3/dist-packages (from pandas-profiling) (1.10.2)\n",
      "Requirement already satisfied: htmlmin==0.1.12 in /home/DsF/.local/lib/python3.10/site-packages (from pandas-profiling) (0.1.12)\n",
      "Requirement already satisfied: tqdm<4.65,>=4.48.2 in /usr/lib/python3/dist-packages (from pandas-profiling) (4.64.0)\n",
      "Requirement already satisfied: typeguard<2.14,>=2.13.2 in /home/DsF/.local/lib/python3.10/site-packages (from pandas-profiling) (2.13.3)\n",
      "Requirement already satisfied: PyYAML<6.1,>=5.0.0 in /usr/lib/python3/dist-packages (from pandas-profiling) (6.0)\n",
      "Requirement already satisfied: requests<2.29,>=2.24.0 in /usr/lib/python3/dist-packages (from pandas-profiling) (2.28.1)\n",
      "Requirement already satisfied: statsmodels<0.14,>=0.13.2 in /home/DsF/.local/lib/python3.10/site-packages (from pandas-profiling) (0.13.5)\n",
      "Requirement already satisfied: attrs>=19.3.0 in /usr/lib/python3/dist-packages (from visions[type_image_path]==0.7.5->pandas-profiling) (22.1.0)\n",
      "Requirement already satisfied: tangled-up-in-unicode>=0.0.4 in /home/DsF/.local/lib/python3.10/site-packages (from visions[type_image_path]==0.7.5->pandas-profiling) (0.2.0)\n",
      "Requirement already satisfied: networkx>=2.4 in /home/DsF/.local/lib/python3.10/site-packages (from visions[type_image_path]==0.7.5->pandas-profiling) (3.0)\n",
      "Requirement already satisfied: Pillow in /usr/lib/python3/dist-packages (from visions[type_image_path]==0.7.5->pandas-profiling) (9.3.0)\n",
      "Requirement already satisfied: imagehash in /home/DsF/.local/lib/python3.10/site-packages (from visions[type_image_path]==0.7.5->pandas-profiling) (4.3.1)\n",
      "Requirement already satisfied: joblib>=0.14.1 in /home/DsF/.local/lib/python3.10/site-packages (from phik<0.13,>=0.11.1->pandas-profiling) (1.2.0)\n",
      "Requirement already satisfied: packaging>=21.3 in /usr/lib/python3/dist-packages (from statsmodels<0.14,>=0.13.2->pandas-profiling) (21.3)\n",
      "Requirement already satisfied: patsy>=0.5.2 in /home/DsF/.local/lib/python3.10/site-packages (from statsmodels<0.14,>=0.13.2->pandas-profiling) (0.5.3)\n",
      "Requirement already satisfied: six in /usr/lib/python3/dist-packages (from patsy>=0.5.2->statsmodels<0.14,>=0.13.2->pandas-profiling) (1.16.0)\n",
      "Requirement already satisfied: PyWavelets in /home/DsF/.local/lib/python3.10/site-packages (from imagehash->visions[type_image_path]==0.7.5->pandas-profiling) (1.4.1)\n"
     ]
    }
   ],
   "source": [
    "#install and/or upgrade packages\n",
    "\n",
    "!pip install pandas seaborn pandas-profiling"
   ]
  },
  {
   "cell_type": "code",
   "execution_count": 20,
   "metadata": {},
   "outputs": [
    {
     "name": "stdout",
     "output_type": "stream",
     "text": [
      "The autoreload extension is already loaded. To reload it, use:\n",
      "  %reload_ext autoreload\n"
     ]
    }
   ],
   "source": [
    "#imports\n",
    "\n",
    "import warnings\n",
    "warnings.simplefilter(action='ignore', category=FutureWarning)\n",
    "warnings.filterwarnings(action='ignore')\n",
    "import numpy as np\n",
    "import pandas as pd\n",
    "import seaborn as sns\n",
    "import matplotlib.pyplot as plt\n",
    "import pandas_profiling\n",
    "from random import randint\n",
    "from os import path\n",
    "from contextlib import suppress\n",
    "from pandas_profiling import ProfileReport\n",
    "\n",
    "%load_ext autoreload\n",
    "%autoreload 2\n",
    "%reload_ext autoreload\n",
    "\n",
    "\n",
    "%matplotlib inline"
   ]
  },
  {
   "attachments": {},
   "cell_type": "markdown",
   "metadata": {},
   "source": [
    "### Default settings for plots\n",
    "\n",
    "automate, as much as possible, the process of creating visualisations\n",
    "\n",
    "##### why?\n",
    "* it is efficient\n",
    "* visualisations are consistent\n",
    "\n",
    "##### how?\n",
    "* create templates"
   ]
  },
  {
   "cell_type": "code",
   "execution_count": 2,
   "metadata": {},
   "outputs": [],
   "source": [
    "#template no. 1\n",
    "\n",
    "#default blue\n",
    "default_blue = sns.color_palette('tab10')[0]\n",
    "\n",
    "#default orange\n",
    "default_orange = sns.color_palette('tab10')[1]\n",
    "\n",
    "#default palette\n",
    "default_palette = sns.color_palette('tab10')"
   ]
  },
  {
   "cell_type": "code",
   "execution_count": 3,
   "metadata": {},
   "outputs": [],
   "source": [
    "#template no. 2\n",
    "\n",
    "'''\n",
    "Simple function to create `Figure` object\n",
    "using matplotlib. Has an x-lab, y-lab and\n",
    "title.\n",
    "\n",
    "\"Father Figure\", if you like :)\n",
    "\n",
    "3 params, all type `str`:\n",
    "@x_lab: x label\n",
    "@y_lab: y label\n",
    "@title: title\n",
    "\n",
    "return: None\n",
    "'''\n",
    "\n",
    "def create_fig(x_lab: str, y_lab: str, title: str):\n",
    "    \"\"\"Father Figure\"\"\"\n",
    "    try:\n",
    "        plt.figure(figsize=(10, 6.18), dpi=216, frameon=False, clear=True)\n",
    "        plt.xlabel(x_lab)\n",
    "        plt.ylabel(y_lab)\n",
    "        plt.title(title)\n",
    "    except ModuleNotFoundError:\n",
    "        print(f'Please `import matplotlib.pyplot as plt` and try again')\n",
    "    except:\n",
    "        print(f'Failed to create template')\n",
    "        raise"
   ]
  },
  {
   "cell_type": "code",
   "execution_count": 4,
   "metadata": {},
   "outputs": [],
   "source": [
    "#template no. 3\n",
    "\n",
    "'''\n",
    "Simple function to create `Figure` object\n",
    "using matplotlib for sub-plots.\n",
    "\n",
    "\"Father Figure\", for sub-plots :)\n",
    "\n",
    "2 params, type `int`; number of sub-plots:\n",
    "@n_row: #rows\n",
    "@n_col: #cols\n",
    "\n",
    "return: fig and ax objects\n",
    "'''\n",
    "\n",
    "def create_sub(n_row: int=1, n_col: int=1):\n",
    "    \"\"\"Father Figure for  sub-plots\"\"\"\n",
    "    try:\n",
    "        fig, ax = plt.subplots(n_row, n_col, figsize=(10, 6.18), dpi=216)\n",
    "        fig.tight_layout(pad=10.0)\n",
    "        return fig, ax\n",
    "    except ModuleNotFoundError:\n",
    "        print(f'Please `import matplotlib.pyplot as plt` and try again')\n",
    "    except:\n",
    "        print(f'Failed to create template')\n",
    "        raise"
   ]
  },
  {
   "cell_type": "code",
   "execution_count": 5,
   "metadata": {},
   "outputs": [],
   "source": [
    "#confirm that a df exists\n",
    "\n",
    "'''\n",
    "Simple function to see if a df exists\n",
    "\n",
    "1 param: name of variable holding the df\n",
    "\n",
    "Do not pass the arg as a string. \n",
    "Repeat: DO NOT pass the arg as a string.\n",
    "\n",
    "return: None\n",
    "'''\n",
    "\n",
    "def confirm_df_exists(df):\n",
    "    \"\"\"confirm that a df exists\"\"\"\n",
    "    if not df.empty:\n",
    "        print(f'This dataframe exists')\n",
    "        return\n",
    "    print(f'This dataframe does not exist')"
   ]
  },
  {
   "cell_type": "code",
   "execution_count": 6,
   "metadata": {},
   "outputs": [],
   "source": [
    "#confirm that a file exists and/or has been\n",
    "# created in current dir\n",
    "\n",
    "'''\n",
    "simple function to confirm that a file exists\n",
    "and/or has been created in current dir\n",
    "\n",
    "1 param, type `str`: name of file\n",
    "@file_name: name of file\n",
    "\n",
    "return None\n",
    "'''\n",
    "\n",
    "def confirm_file_exists(file_name: str):\n",
    "    \"\"\"confirm that file exists\"\"\"\n",
    "    if path.exists(file_name):\n",
    "        print(f'File exists')\n",
    "    else:\n",
    "        print(f'Something went wrong. Investigate')"
   ]
  },
  {
   "attachments": {},
   "cell_type": "markdown",
   "metadata": {},
   "source": [
    "### Load the data"
   ]
  },
  {
   "cell_type": "code",
   "execution_count": 16,
   "metadata": {},
   "outputs": [
    {
     "name": "stdout",
     "output_type": "stream",
     "text": [
      "This dataframe exists\n"
     ]
    }
   ],
   "source": [
    "df = pd.read_csv('shamiri_imputed_dataset.csv', sep=',')\n",
    "confirm_df_exists(df)"
   ]
  },
  {
   "cell_type": "code",
   "execution_count": 23,
   "metadata": {},
   "outputs": [
    {
     "name": "stderr",
     "output_type": "stream",
     "text": [
      "Summarize dataset: 100%|██████████| 211/211 [01:01<00:00,  3.43it/s, Completed]                       \n",
      "Generate report structure: 100%|██████████| 1/1 [00:18<00:00, 18.39s/it]\n",
      "Render HTML: 100%|██████████| 1/1 [00:09<00:00,  9.95s/it]\n",
      "Export report to file: 100%|██████████| 1/1 [00:00<00:00, 34.52it/s]\n"
     ]
    }
   ],
   "source": [
    "profile = ProfileReport(df)\n",
    "profile.to_file(output_file='report.html')"
   ]
  },
  {
   "cell_type": "code",
   "execution_count": 28,
   "metadata": {},
   "outputs": [
    {
     "data": {
      "text/plain": [
       "(658, 33)"
      ]
     },
     "execution_count": 28,
     "metadata": {},
     "output_type": "execute_result"
    }
   ],
   "source": [
    "df.shape"
   ]
  },
  {
   "cell_type": "code",
   "execution_count": 25,
   "metadata": {},
   "outputs": [
    {
     "data": {
      "text/plain": [
       "False    658\n",
       "dtype: int64"
      ]
     },
     "execution_count": 25,
     "metadata": {},
     "output_type": "execute_result"
    }
   ],
   "source": [
    "df.duplicated().value_counts()"
   ]
  },
  {
   "cell_type": "code",
   "execution_count": 26,
   "metadata": {},
   "outputs": [
    {
     "name": "stdout",
     "output_type": "stream",
     "text": [
      "<class 'pandas.core.frame.DataFrame'>\n",
      "RangeIndex: 658 entries, 0 to 657\n",
      "Data columns (total 33 columns):\n",
      " #   Column            Non-Null Count  Dtype  \n",
      "---  ------            --------------  -----  \n",
      " 0   ParticipantID     658 non-null    object \n",
      " 1   PHQ1              658 non-null    int64  \n",
      " 2   PHQ2              658 non-null    int64  \n",
      " 3   PHQ3              658 non-null    int64  \n",
      " 4   PHQ4              658 non-null    int64  \n",
      " 5   PHQ5              658 non-null    int64  \n",
      " 6   PHQ6              658 non-null    int64  \n",
      " 7   PHQ7              658 non-null    int64  \n",
      " 8   PHQ8              658 non-null    int64  \n",
      " 9   GAD1              658 non-null    int64  \n",
      " 10  GAD2              658 non-null    int64  \n",
      " 11  GAD3              658 non-null    int64  \n",
      " 12  GAD4              658 non-null    int64  \n",
      " 13  GAD5              658 non-null    int64  \n",
      " 14  GAD6              658 non-null    int64  \n",
      " 15  GAD7              658 non-null    int64  \n",
      " 16  MSSS1             658 non-null    int64  \n",
      " 17  MSSS2             658 non-null    int64  \n",
      " 18  MSSS3             658 non-null    int64  \n",
      " 19  MSSS4             658 non-null    int64  \n",
      " 20  MSSS5             658 non-null    int64  \n",
      " 21  MSSS6             658 non-null    int64  \n",
      " 22  MSSS7             658 non-null    int64  \n",
      " 23  MSSS8             658 non-null    int64  \n",
      " 24  MSSS9             658 non-null    int64  \n",
      " 25  MSSS10            658 non-null    int64  \n",
      " 26  MSSS11            658 non-null    int64  \n",
      " 27  MSSS12            658 non-null    int64  \n",
      " 28  Tribe             658 non-null    object \n",
      " 29  Gender            658 non-null    object \n",
      " 30  School            658 non-null    object \n",
      " 31  Age               658 non-null    float64\n",
      " 32  School_Resources  658 non-null    object \n",
      "dtypes: float64(1), int64(27), object(5)\n",
      "memory usage: 169.8+ KB\n"
     ]
    }
   ],
   "source": [
    "df.info()"
   ]
  },
  {
   "cell_type": "code",
   "execution_count": 31,
   "metadata": {},
   "outputs": [
    {
     "data": {
      "text/plain": [
       "626"
      ]
     },
     "execution_count": 31,
     "metadata": {},
     "output_type": "execute_result"
    }
   ],
   "source": [
    "df.ParticipantID.nunique()"
   ]
  },
  {
   "cell_type": "code",
   "execution_count": 35,
   "metadata": {},
   "outputs": [
    {
     "data": {
      "text/plain": [
       "476    True\n",
       "578    True\n",
       "35     True\n",
       "10     True\n",
       "599    True\n",
       "382    True\n",
       "205    True\n",
       "54     True\n",
       "401    True\n",
       "301    True\n",
       "408    True\n",
       "324    True\n",
       "597    True\n",
       "194    True\n",
       "dtype: bool"
      ]
     },
     "execution_count": 35,
     "metadata": {},
     "output_type": "execute_result"
    }
   ],
   "source": [
    "df.duplicated().apply(lambda x: x != 'True').sample(randint(5, 15))"
   ]
  },
  {
   "cell_type": "code",
   "execution_count": 27,
   "metadata": {},
   "outputs": [
    {
     "data": {
      "text/html": [
       "<div>\n",
       "<style scoped>\n",
       "    .dataframe tbody tr th:only-of-type {\n",
       "        vertical-align: middle;\n",
       "    }\n",
       "\n",
       "    .dataframe tbody tr th {\n",
       "        vertical-align: top;\n",
       "    }\n",
       "\n",
       "    .dataframe thead th {\n",
       "        text-align: right;\n",
       "    }\n",
       "</style>\n",
       "<table border=\"1\" class=\"dataframe\">\n",
       "  <thead>\n",
       "    <tr style=\"text-align: right;\">\n",
       "      <th></th>\n",
       "      <th>ParticipantID</th>\n",
       "      <th>PHQ1</th>\n",
       "      <th>PHQ2</th>\n",
       "      <th>PHQ3</th>\n",
       "      <th>PHQ4</th>\n",
       "      <th>PHQ5</th>\n",
       "      <th>PHQ6</th>\n",
       "      <th>PHQ7</th>\n",
       "      <th>PHQ8</th>\n",
       "      <th>GAD1</th>\n",
       "      <th>...</th>\n",
       "      <th>MSSS8</th>\n",
       "      <th>MSSS9</th>\n",
       "      <th>MSSS10</th>\n",
       "      <th>MSSS11</th>\n",
       "      <th>MSSS12</th>\n",
       "      <th>Tribe</th>\n",
       "      <th>Gender</th>\n",
       "      <th>School</th>\n",
       "      <th>Age</th>\n",
       "      <th>School_Resources</th>\n",
       "    </tr>\n",
       "  </thead>\n",
       "  <tbody>\n",
       "    <tr>\n",
       "      <th>137</th>\n",
       "      <td>EH_058</td>\n",
       "      <td>0</td>\n",
       "      <td>1</td>\n",
       "      <td>0</td>\n",
       "      <td>0</td>\n",
       "      <td>0</td>\n",
       "      <td>2</td>\n",
       "      <td>0</td>\n",
       "      <td>2</td>\n",
       "      <td>0</td>\n",
       "      <td>...</td>\n",
       "      <td>7</td>\n",
       "      <td>4</td>\n",
       "      <td>6</td>\n",
       "      <td>7</td>\n",
       "      <td>4</td>\n",
       "      <td>Minority</td>\n",
       "      <td>F</td>\n",
       "      <td>Elite</td>\n",
       "      <td>17.0</td>\n",
       "      <td>Poor</td>\n",
       "    </tr>\n",
       "    <tr>\n",
       "      <th>572</th>\n",
       "      <td>OLY_127</td>\n",
       "      <td>1</td>\n",
       "      <td>0</td>\n",
       "      <td>0</td>\n",
       "      <td>1</td>\n",
       "      <td>2</td>\n",
       "      <td>0</td>\n",
       "      <td>2</td>\n",
       "      <td>0</td>\n",
       "      <td>2</td>\n",
       "      <td>...</td>\n",
       "      <td>2</td>\n",
       "      <td>3</td>\n",
       "      <td>2</td>\n",
       "      <td>3</td>\n",
       "      <td>3</td>\n",
       "      <td>Minority</td>\n",
       "      <td>F</td>\n",
       "      <td>Olympic</td>\n",
       "      <td>14.0</td>\n",
       "      <td>Medium</td>\n",
       "    </tr>\n",
       "    <tr>\n",
       "      <th>470</th>\n",
       "      <td>OLY_025</td>\n",
       "      <td>1</td>\n",
       "      <td>1</td>\n",
       "      <td>2</td>\n",
       "      <td>1</td>\n",
       "      <td>0</td>\n",
       "      <td>1</td>\n",
       "      <td>0</td>\n",
       "      <td>0</td>\n",
       "      <td>0</td>\n",
       "      <td>...</td>\n",
       "      <td>2</td>\n",
       "      <td>1</td>\n",
       "      <td>5</td>\n",
       "      <td>6</td>\n",
       "      <td>5</td>\n",
       "      <td>Minority</td>\n",
       "      <td>M</td>\n",
       "      <td>Olympic</td>\n",
       "      <td>14.0</td>\n",
       "      <td>Medium</td>\n",
       "    </tr>\n",
       "    <tr>\n",
       "      <th>430</th>\n",
       "      <td>AGHS_142</td>\n",
       "      <td>2</td>\n",
       "      <td>1</td>\n",
       "      <td>1</td>\n",
       "      <td>2</td>\n",
       "      <td>0</td>\n",
       "      <td>1</td>\n",
       "      <td>1</td>\n",
       "      <td>3</td>\n",
       "      <td>1</td>\n",
       "      <td>...</td>\n",
       "      <td>4</td>\n",
       "      <td>6</td>\n",
       "      <td>6</td>\n",
       "      <td>4</td>\n",
       "      <td>5</td>\n",
       "      <td>Majority</td>\n",
       "      <td>F</td>\n",
       "      <td>AGHS</td>\n",
       "      <td>15.0</td>\n",
       "      <td>Rich</td>\n",
       "    </tr>\n",
       "    <tr>\n",
       "      <th>520</th>\n",
       "      <td>OLY_075</td>\n",
       "      <td>1</td>\n",
       "      <td>0</td>\n",
       "      <td>0</td>\n",
       "      <td>3</td>\n",
       "      <td>0</td>\n",
       "      <td>0</td>\n",
       "      <td>2</td>\n",
       "      <td>0</td>\n",
       "      <td>0</td>\n",
       "      <td>...</td>\n",
       "      <td>7</td>\n",
       "      <td>7</td>\n",
       "      <td>7</td>\n",
       "      <td>7</td>\n",
       "      <td>7</td>\n",
       "      <td>Minority</td>\n",
       "      <td>F</td>\n",
       "      <td>Olympic</td>\n",
       "      <td>16.0</td>\n",
       "      <td>Medium</td>\n",
       "    </tr>\n",
       "    <tr>\n",
       "      <th>620</th>\n",
       "      <td>OLY_175</td>\n",
       "      <td>2</td>\n",
       "      <td>3</td>\n",
       "      <td>1</td>\n",
       "      <td>0</td>\n",
       "      <td>1</td>\n",
       "      <td>1</td>\n",
       "      <td>1</td>\n",
       "      <td>1</td>\n",
       "      <td>0</td>\n",
       "      <td>...</td>\n",
       "      <td>6</td>\n",
       "      <td>6</td>\n",
       "      <td>6</td>\n",
       "      <td>6</td>\n",
       "      <td>6</td>\n",
       "      <td>Minority</td>\n",
       "      <td>M</td>\n",
       "      <td>Olympic</td>\n",
       "      <td>17.0</td>\n",
       "      <td>Medium</td>\n",
       "    </tr>\n",
       "    <tr>\n",
       "      <th>271</th>\n",
       "      <td>AHS_115</td>\n",
       "      <td>3</td>\n",
       "      <td>0</td>\n",
       "      <td>0</td>\n",
       "      <td>3</td>\n",
       "      <td>1</td>\n",
       "      <td>1</td>\n",
       "      <td>3</td>\n",
       "      <td>3</td>\n",
       "      <td>2</td>\n",
       "      <td>...</td>\n",
       "      <td>1</td>\n",
       "      <td>5</td>\n",
       "      <td>3</td>\n",
       "      <td>1</td>\n",
       "      <td>4</td>\n",
       "      <td>Majority</td>\n",
       "      <td>M</td>\n",
       "      <td>AHS</td>\n",
       "      <td>17.0</td>\n",
       "      <td>Rich</td>\n",
       "    </tr>\n",
       "    <tr>\n",
       "      <th>120</th>\n",
       "      <td>EH_041</td>\n",
       "      <td>2</td>\n",
       "      <td>2</td>\n",
       "      <td>2</td>\n",
       "      <td>2</td>\n",
       "      <td>2</td>\n",
       "      <td>3</td>\n",
       "      <td>2</td>\n",
       "      <td>2</td>\n",
       "      <td>2</td>\n",
       "      <td>...</td>\n",
       "      <td>6</td>\n",
       "      <td>3</td>\n",
       "      <td>7</td>\n",
       "      <td>4</td>\n",
       "      <td>2</td>\n",
       "      <td>Minority</td>\n",
       "      <td>M</td>\n",
       "      <td>Elite</td>\n",
       "      <td>16.0</td>\n",
       "      <td>Poor</td>\n",
       "    </tr>\n",
       "  </tbody>\n",
       "</table>\n",
       "<p>8 rows × 33 columns</p>\n",
       "</div>"
      ],
      "text/plain": [
       "    ParticipantID  PHQ1  PHQ2  PHQ3  PHQ4  PHQ5  PHQ6  PHQ7  PHQ8  GAD1  ...  \\\n",
       "137        EH_058     0     1     0     0     0     2     0     2     0  ...   \n",
       "572       OLY_127     1     0     0     1     2     0     2     0     2  ...   \n",
       "470       OLY_025     1     1     2     1     0     1     0     0     0  ...   \n",
       "430      AGHS_142     2     1     1     2     0     1     1     3     1  ...   \n",
       "520       OLY_075     1     0     0     3     0     0     2     0     0  ...   \n",
       "620       OLY_175     2     3     1     0     1     1     1     1     0  ...   \n",
       "271       AHS_115     3     0     0     3     1     1     3     3     2  ...   \n",
       "120        EH_041     2     2     2     2     2     3     2     2     2  ...   \n",
       "\n",
       "     MSSS8  MSSS9  MSSS10  MSSS11  MSSS12     Tribe  Gender   School   Age  \\\n",
       "137      7      4       6       7       4  Minority       F    Elite  17.0   \n",
       "572      2      3       2       3       3  Minority       F  Olympic  14.0   \n",
       "470      2      1       5       6       5  Minority       M  Olympic  14.0   \n",
       "430      4      6       6       4       5  Majority       F     AGHS  15.0   \n",
       "520      7      7       7       7       7  Minority       F  Olympic  16.0   \n",
       "620      6      6       6       6       6  Minority       M  Olympic  17.0   \n",
       "271      1      5       3       1       4  Majority       M      AHS  17.0   \n",
       "120      6      3       7       4       2  Minority       M    Elite  16.0   \n",
       "\n",
       "     School_Resources  \n",
       "137              Poor  \n",
       "572            Medium  \n",
       "470            Medium  \n",
       "430              Rich  \n",
       "520            Medium  \n",
       "620            Medium  \n",
       "271              Rich  \n",
       "120              Poor  \n",
       "\n",
       "[8 rows x 33 columns]"
      ]
     },
     "execution_count": 27,
     "metadata": {},
     "output_type": "execute_result"
    }
   ],
   "source": [
    "df.sample(randint(5, 15))"
   ]
  },
  {
   "attachments": {},
   "cell_type": "markdown",
   "metadata": {},
   "source": [
    "### Structure\n",
    "\n",
    "#### Overall\n",
    "* 657 observations\n",
    "* 32 variables\n",
    "    * 27 of type `int`\n",
    "    * 1 of type `float`\n",
    "    * 4 of type `object`\n",
    "\n",
    "#### Missing and null values\n",
    "* `df` has no missing or null values\n",
    "\n",
    "#### Duplicated observations\n",
    "* `df` has no duplicated observations\n",
    "\n",
    "#### Multiple values for a variable\n",
    "* observations in twtr_archive have a single value per variable\n",
    "\n",
    "#### Quality\n",
    "* no missing values\n",
    "* values follow the [definition of variables](./variables.md)\n",
    "\n",
    "#### Tidiness\n",
    "* variables are properly defined\n",
    "* each variable represents one piece of information\n",
    "* observations in twtr_archive have a single value per variable\n",
    "\n"
   ]
  },
  {
   "attachments": {},
   "cell_type": "markdown",
   "metadata": {},
   "source": [
    "<div id=\"explration\"></div>\n",
    "\n",
    "## Exploration"
   ]
  },
  {
   "attachments": {},
   "cell_type": "markdown",
   "metadata": {},
   "source": [
    "<div id=\"summary-of-findings\"></div>\n",
    "\n",
    "## Summary of Findings"
   ]
  },
  {
   "attachments": {},
   "cell_type": "markdown",
   "metadata": {},
   "source": [
    "<div id=\"conclusions\"></div>\n",
    "\n",
    "## Conclusions"
   ]
  },
  {
   "cell_type": "markdown",
   "metadata": {},
   "source": []
  }
 ],
 "metadata": {
  "kernelspec": {
   "display_name": "Python 3",
   "language": "python",
   "name": "python3"
  },
  "language_info": {
   "codemirror_mode": {
    "name": "ipython",
    "version": 3
   },
   "file_extension": ".py",
   "mimetype": "text/x-python",
   "name": "python",
   "nbconvert_exporter": "python",
   "pygments_lexer": "ipython3",
   "version": "3.10.9"
  },
  "orig_nbformat": 4,
  "vscode": {
   "interpreter": {
    "hash": "31f2aee4e71d21fbe5cf8b01ff0e069b9275f58929596ceb00d14d90e3e16cd6"
   }
  }
 },
 "nbformat": 4,
 "nbformat_minor": 2
}
